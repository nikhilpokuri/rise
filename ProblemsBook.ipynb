{
 "cells": [
  {
   "cell_type": "code",
   "execution_count": null,
   "metadata": {},
   "outputs": [],
   "source": [
    "# check if number is composite or not\n"
   ]
  },
  {
   "cell_type": "code",
   "execution_count": null,
   "metadata": {},
   "outputs": [],
   "source": [
    "# GCD of 12 and 30\n",
    "def gcd(n1, n2):\n",
    "    factors1 = [i for i in range(2, n1+1) if n1 % i == 0] # to get factors of num1\n",
    "    factors2 = [i for i in range(2, n2+1) if n2 % i == 0] # to get factors of num2\n",
    "\n",
    "    commons = [i for i in factors1 if i in factors2] # to store all common factors\n",
    "    return max(commons)\n",
    "n1 = 12\n",
    "n2 = 30\n",
    "print(f\"GCD of {n1} and {n2} is {gcd(12, 30)}\")\n"
   ]
  },
  {
   "cell_type": "code",
   "execution_count": null,
   "metadata": {},
   "outputs": [],
   "source": [
    "# LCM of 12 and 72\n",
    "\"\"\"\n",
    "gcd(12, 72) / 12 * 72\n",
    "\"\"\"\n",
    "n1 = 12\n",
    "n2 = 72\n",
    "\n",
    "print(n1*n2//gcd(n1, n2))"
   ]
  },
  {
   "cell_type": "code",
   "execution_count": null,
   "metadata": {},
   "outputs": [],
   "source": [
    "# simplify form of 21/49\n",
    "def gcd(n1, n2):\n",
    "    factors1 = []\n",
    "    factors2 = []\n",
    "    for i in range(2, n1+1): # to get factors of num1\n",
    "        if n1 % i == 0:\n",
    "            factors1.append(i)\n",
    "    \n",
    "    for i in range(2, n2+1): # to get factors of num2\n",
    "        if n2 % i == 0:\n",
    "            factors2.append(i)\n",
    "    \n",
    "    maxi = 0  # to find the maximum common factor\n",
    "    for i in factors1:\n",
    "        if i in factors2:\n",
    "            maxi = i\n",
    "    return maxi\n",
    "numerator = 4\n",
    "denominator = 16\n",
    "_gcd = gcd(numerator, denominator) \n",
    "print(f\"{numerator//_gcd}/{denominator//_gcd}\")"
   ]
  },
  {
   "cell_type": "code",
   "execution_count": null,
   "metadata": {},
   "outputs": [],
   "source": [
    "# product of 0.6 and 0.8\n",
    "n1 = 0.6\n",
    "n2 = 0.8\n",
    "print(f\"product of {n1} and {n2} is {float(n1) * float(n2)}\")"
   ]
  },
  {
   "cell_type": "code",
   "execution_count": null,
   "metadata": {},
   "outputs": [],
   "source": [
    "# product of 3/4 and 9\n",
    "n1 = 3/4\n",
    "n2 = 9\n",
    "print(f\"product of {n1} and {n2} is {float(n1) * float(n2)}\")"
   ]
  },
  {
   "cell_type": "code",
   "execution_count": null,
   "metadata": {},
   "outputs": [],
   "source": [
    "# next term of 9, 15, 21, 27, 33, _ ?\n",
    "arr  = [9, 15, 21, 27, 33]\n",
    "diff = abs(arr[0] - arr[1])\n",
    "print(f\"next term of {arr} is {arr[-1] + diff}\")"
   ]
  },
  {
   "cell_type": "code",
   "execution_count": null,
   "metadata": {},
   "outputs": [],
   "source": [
    "# next term of 21, 16, 11, 6, _ ?\n",
    "arr  = [21, 16, 11, 6]\n",
    "diff = abs(arr[0] - arr[1])\n",
    "print(f\"next term of {arr} is {arr[-1] - diff}\")"
   ]
  },
  {
   "cell_type": "code",
   "execution_count": null,
   "metadata": {},
   "outputs": [],
   "source": [
    "# nth term of sequence 3, 7, 11, 15...?\n",
    "\"\"\"\n",
    "methods\n",
    "- (n - len(arr) * diff) + arr [-1]\n",
    "- (diff * n)-1\n",
    "\"\"\"\n",
    "\n",
    "n = 10\n",
    "arr = [3, 7, 11, 15]\n",
    "diff = abs(arr[0] - arr[1])\n",
    "\n",
    "# method1\n",
    "print(f\"nth term of {arr} is {((n-len(arr)) * diff) + arr[-1]}\")\n",
    "\n",
    "#method2\n",
    "print(f\"nth term of {arr} is {(diff * n)-1}\")"
   ]
  },
  {
   "cell_type": "code",
   "execution_count": null,
   "metadata": {},
   "outputs": [],
   "source": [
    "# find total, including missing terms of sequence 3, 7,... 23 \n",
    "print(sum([i for i in range(3, 24, 4)]))"
   ]
  },
  {
   "cell_type": "code",
   "execution_count": 14,
   "metadata": {},
   "outputs": [
    {
     "name": "stdout",
     "output_type": "stream",
     "text": [
      "-20\n"
     ]
    }
   ],
   "source": [
    "# sum of all even numbers between -21 and 19\n",
    "num1 = -21\n",
    "num2 = 19\n",
    "print(sum([i for i in range(num1, num2+1) if i%2==0]))\n"
   ]
  },
  {
   "cell_type": "code",
   "execution_count": null,
   "metadata": {},
   "outputs": [],
   "source": [
    "# average of 12 and 24"
   ]
  },
  {
   "cell_type": "code",
   "execution_count": null,
   "metadata": {},
   "outputs": [],
   "source": [
    "# ((2^3)^(-4))^(-3) = ?\n",
    "print(((2**3)**(-4))**(-3))"
   ]
  },
  {
   "cell_type": "code",
   "execution_count": null,
   "metadata": {},
   "outputs": [],
   "source": [
    "# 17^3 + 19^2 = ?\n",
    "print((17**3) + (19**2))"
   ]
  },
  {
   "cell_type": "code",
   "execution_count": null,
   "metadata": {},
   "outputs": [],
   "source": [
    "# 1^3 + 2^2 + 3^3 + 4^2 + 5^3 + ...20^2 = ?\n",
    "res = 0\n",
    "for i in range(1, 21):\n",
    "    if i % 2 == 0:\n",
    "        res += i ** 2\n",
    "    else:\n",
    "        res = res + (i ** 3)\n",
    "print(res)\n"
   ]
  },
  {
   "cell_type": "code",
   "execution_count": null,
   "metadata": {},
   "outputs": [],
   "source": [
    "# product of all even nums between 21 to 41\n",
    "res = 1\n",
    "for i in range(21, 42):\n",
    "    res *= i\n",
    "print(res)"
   ]
  },
  {
   "cell_type": "code",
   "execution_count": null,
   "metadata": {},
   "outputs": [],
   "source": [
    "# convert every number into negative [9, -8, 1, -2, 7, -9]\n",
    "arr = [9, -8, 1, -2, 7, -9]\n",
    "res = []\n",
    "for i in arr:\n",
    "    res.append(-1*abs(i))\n",
    "print(res)"
   ]
  },
  {
   "cell_type": "code",
   "execution_count": null,
   "metadata": {},
   "outputs": [],
   "source": [
    "# sum of absolute values of [1, -3, 2, 4, -5]\n",
    "res = 0\n",
    "for i in [1, -3, 2, 4, -5]:\n",
    "    res += abs(i)\n",
    "print(res)"
   ]
  },
  {
   "cell_type": "code",
   "execution_count": null,
   "metadata": {},
   "outputs": [],
   "source": [
    "# get all palindrome numbers from 1 to 200\n",
    "\"\"\"\n",
    "loop from 1 to 201\n",
    "convert to str\n",
    "compare str(num) == reversed str(num)\n",
    "\"\"\"\n",
    "for i in range(1, 201):\n",
    "    converted = str(i)\n",
    "    if converted == converted[::-1]:\n",
    "        print(i)\n"
   ]
  },
  {
   "cell_type": "code",
   "execution_count": null,
   "metadata": {},
   "outputs": [],
   "source": [
    "# find the primes in 2, 3, 4, 12, 13 (Must use Functions)\n",
    "def isPrime(n):\n",
    "    for i in range(2, (n//2)+1):\n",
    "        if n % i == 0:\n",
    "            return False\n",
    "    return True\n",
    "\n",
    "for num in [2, 3, 4, 12, 13]:\n",
    "    if isPrime(num) == True:\n",
    "        print(num)   "
   ]
  },
  {
   "cell_type": "code",
   "execution_count": null,
   "metadata": {},
   "outputs": [],
   "source": [
    "print(\"This is Suresh's pc\")\n",
    "print('This is Suresh\\'s pc')"
   ]
  },
  {
   "cell_type": "markdown",
   "metadata": {},
   "source": [
    "re-use composite function for below two probs"
   ]
  },
  {
   "cell_type": "code",
   "execution_count": null,
   "metadata": {},
   "outputs": [],
   "source": [
    "# find the composites in 9, 31, 32, 14, 17, 43, 58, 4, 6 (Must use Functions)\n",
    "def isComposite(n):\n",
    "    for i in range(2, (n//2)+1):\n",
    "        if n % i == 0:\n",
    "            return True\n",
    "    return False\n",
    "\n",
    "for num in [9, 31, 32, 14, 17, 43, 58, 4, 6]:\n",
    "    if isComposite(num) == True:\n",
    "        print(num)"
   ]
  },
  {
   "cell_type": "code",
   "execution_count": null,
   "metadata": {},
   "outputs": [],
   "source": [
    "# filter composite numbers from 10 to 20 in below arr (Must use Function & filter)\n"
   ]
  },
  {
   "cell_type": "code",
   "execution_count": null,
   "metadata": {},
   "outputs": [],
   "source": [
    "# filter positives and count\n",
    "# filter negatives aand count\n"
   ]
  },
  {
   "cell_type": "markdown",
   "metadata": {},
   "source": [
    "re-use the factorial function for below three probs"
   ]
  },
  {
   "cell_type": "code",
   "execution_count": null,
   "metadata": {},
   "outputs": [],
   "source": [
    "# 10! = ? (i.e., factorial)\n",
    "def rise(n):\n",
    "    res = 1\n",
    "    for i in range(2, n+1):\n",
    "        # res *= i\n",
    "        res = res * i\n",
    "    return res\n",
    "print(rise(5))"
   ]
  },
  {
   "cell_type": "code",
   "execution_count": null,
   "metadata": {},
   "outputs": [],
   "source": [
    "# 1! + 2! + 3! + ... 10! = ?\n",
    "res = 0\n",
    "for i in range(1, 11):\n",
    "    res += rise(i)\n",
    "print(res % (10**9) + 7)"
   ]
  },
  {
   "cell_type": "code",
   "execution_count": null,
   "metadata": {},
   "outputs": [],
   "source": [
    "# 2! + 4! + 6! + ... 20! = ?\n",
    "res = 0\n",
    "for i in range(2, 21, 2):\n",
    "    res += rise(i)\n",
    "print(res % (10**9) + 7)\n"
   ]
  },
  {
   "cell_type": "code",
   "execution_count": null,
   "metadata": {},
   "outputs": [],
   "source": [
    "# separate all the evens from list\n",
    "\"\"\" \n",
    "but list should be user input\n",
    "\n",
    "\"\"\"\n",
    "arr = list(map(int, (input().split())))\n",
    "res = []\n",
    "for i in arr:\n",
    "    if i % 2 == 0:\n",
    "        res.append(i)\n",
    "print(res)"
   ]
  },
  {
   "cell_type": "code",
   "execution_count": null,
   "metadata": {},
   "outputs": [],
   "source": []
  },
  {
   "cell_type": "code",
   "execution_count": null,
   "metadata": {},
   "outputs": [],
   "source": [
    "details = {}\n",
    "\n",
    "\n",
    "print(details)"
   ]
  },
  {
   "cell_type": "code",
   "execution_count": null,
   "metadata": {},
   "outputs": [],
   "source": []
  },
  {
   "cell_type": "code",
   "execution_count": null,
   "metadata": {},
   "outputs": [],
   "source": [
    "#list\n",
    "names = []\n",
    "names.append(\"rise\")\n",
    "names.append(\"python\")\n",
    "# names.pop()\n",
    "names.append(\"crt\")\n",
    "names.insert(1, \"and\")\n",
    "names[1] = \"&\"\n",
    "print(names, names.index(\"&\"))\n",
    "arr = [1, 2, 2, 4, 5]\n"
   ]
  },
  {
   "cell_type": "code",
   "execution_count": null,
   "metadata": {},
   "outputs": [],
   "source": [
    "#tuple\n",
    "names = tuple()\n",
    "print(names, type(names))"
   ]
  },
  {
   "cell_type": "code",
   "execution_count": null,
   "metadata": {},
   "outputs": [],
   "source": [
    "arr = [1, 1, 1, 1, 2, 3, 44, 5]\n",
    "arr.pop(-2)\n",
    "arr.pop()\n",
    "print(arr)"
   ]
  },
  {
   "cell_type": "code",
   "execution_count": 16,
   "metadata": {},
   "outputs": [
    {
     "name": "stdout",
     "output_type": "stream",
     "text": [
      "True\n"
     ]
    }
   ],
   "source": [
    "#set\n",
    "names = set()\n",
    "names.add(\"rise\")\n",
    "names.add(\"gandhi\")\n",
    "# names.remove(\"rise\")\n",
    "print(\"pace\" in names)\n"
   ]
  },
  {
   "cell_type": "code",
   "execution_count": 18,
   "metadata": {},
   "outputs": [
    {
     "name": "stdout",
     "output_type": "stream",
     "text": [
      "{'name': 'suresh', 10: 'Ramesh', frozenset({1, 2}): 'Suresh'}\n"
     ]
    }
   ],
   "source": [
    "#dictionary\n",
    "data = {}\n",
    "data[\"name\"] = \"suresh\"\n",
    "data[10] = \"Ramesh\"\n",
    "data[frozenset({1,2})] = \"Suresh\"\n",
    "print(data)"
   ]
  },
  {
   "cell_type": "code",
   "execution_count": null,
   "metadata": {},
   "outputs": [],
   "source": [
    "name = (10,)\n",
    "print(type(name))"
   ]
  },
  {
   "cell_type": "code",
   "execution_count": null,
   "metadata": {},
   "outputs": [],
   "source": [
    "#loops\n",
    "n = int(input())\n",
    "evens = []\n",
    "odds = []\n",
    "for i in range(1, n+1):\n",
    "    if i % 2 == 0:\n",
    "        evens.append(i)\n",
    "    else:\n",
    "        odds.append(i)\n",
    "print(evens, odds)"
   ]
  },
  {
   "cell_type": "code",
   "execution_count": null,
   "metadata": {},
   "outputs": [],
   "source": [
    "# print the numbers that are divisible by both a and b from 20 to 100\n",
    "\n",
    "a = int(input())\n",
    "b = int(input())\n",
    "\n",
    "for i in range(20, 101):\n",
    "    if i % a == 0 and i % b == 0:\n",
    "        print(i)"
   ]
  },
  {
   "cell_type": "code",
   "execution_count": null,
   "metadata": {},
   "outputs": [],
   "source": [
    "# check if integer number is palindrome or not\n",
    "s = 1201\n",
    "s = str(s)\n",
    "print(s[::-1] == s)\n"
   ]
  },
  {
   "cell_type": "code",
   "execution_count": null,
   "metadata": {},
   "outputs": [],
   "source": [
    "# check if integer is prime or not\n",
    "\n",
    "primes = []\n",
    "composites = []\n",
    "for num in range(1, 21):\n",
    "    for i in range(2, int(num**(1/2))+1):\n",
    "        if num % i == 0:\n",
    "            composites.append(num)\n",
    "            break\n",
    "    else:\n",
    "        primes.append(num)\n",
    "\n",
    "prime_sum = sum(primes)\n",
    "composite_sum = sum(composites)\n",
    "\n",
    "print(f\"primes are {primes}\")\n",
    "print(f\"composites are {composites}\")\n",
    "print(\"------------------------------------------------------\")\n",
    "print(f\"prime sum : {sum(primes)}\")\n",
    "print(f\"composites sum: {sum(composites)}\")\n",
    "print(\"------------------------------------------------------\")\n",
    "\n",
    "if prime_sum % 2 == 0:\n",
    "    print(f\"prime sum {prime_sum} is even\")\n",
    "else:\n",
    "    print(f\"prime sum {prime_sum} is odd\")\n",
    "\n",
    "if composite_sum % 2 == 0:\n",
    "    print(f\"composite sum {composite_sum} is even\")\n",
    "else:\n",
    "    print(f\"composite sum {composite_sum} is odd\")\n"
   ]
  },
  {
   "cell_type": "code",
   "execution_count": null,
   "metadata": {},
   "outputs": [],
   "source": [
    "# product of all odd nums b/w 5 and 14\n",
    "res = 1\n",
    "for i in range(5, 15, 2):\n",
    "    res *= i\n",
    "print(res)"
   ]
  },
  {
   "cell_type": "code",
   "execution_count": 4,
   "metadata": {},
   "outputs": [
    {
     "name": "stdout",
     "output_type": "stream",
     "text": [
      "665.0\n"
     ]
    }
   ],
   "source": [
    "# if nick drives 190 miles per 2 hours, how far can he drive in 7 hours\n",
    "miles_travelled = float(input(\"miles_travelled: \"))\n",
    "hrs_taken = float(input(\"hrs_taken: \"))\n",
    "units = miles_travelled / hrs_taken\n",
    "required_hrs = float(input(\"hrs_required: \"))\n",
    "res = units * required_hrs\n",
    "print(res)"
   ]
  },
  {
   "cell_type": "code",
   "execution_count": 8,
   "metadata": {},
   "outputs": [
    {
     "name": "stdout",
     "output_type": "stream",
     "text": [
      "111.11111111111111\n"
     ]
    }
   ],
   "source": [
    "# if 4.5 kgs of apples cost 500 bucks, what's the units price ?\n",
    "weight = float(input(\"Actual weight: \"))\n",
    "cost = float(input(\"Actual cost: \"))\n",
    "print(f\"units price is {cost/weight}\")\n"
   ]
  },
  {
   "cell_type": "code",
   "execution_count": 11,
   "metadata": {},
   "outputs": [
    {
     "name": "stdout",
     "output_type": "stream",
     "text": [
      "median: 6\n"
     ]
    }
   ],
   "source": [
    "# median of 2, 1, 4, 10, 8, 6, 7\n",
    "arr = list(map(int, input(\"Enter nums separated by space: \").split()))\n",
    "# arr.sort()\n",
    "arr = sorted(arr)\n",
    "mid = len(arr) // 2\n",
    "if len(arr) % 2 == 0:\n",
    "    print(f\"median: {(arr[mid]+arr[mid-1])//2}\")\n",
    "else:\n",
    "    print(f\"median: {arr[mid]}\")\n",
    "\n"
   ]
  },
  {
   "cell_type": "code",
   "execution_count": 12,
   "metadata": {},
   "outputs": [
    {
     "name": "stdout",
     "output_type": "stream",
     "text": [
      "Mean of [12, -2, 4, -10, 6] is 2.0\n"
     ]
    }
   ],
   "source": [
    "# mean of 12, -2, 4, -10, 6\n",
    "_sum = 0\n",
    "_len = 0\n",
    "arr = list(map(int, input(\"Enter nums separated by space: \").split()))\n",
    "for num in arr:\n",
    "    _sum += num\n",
    "    _len += 1\n",
    "print(f\"Mean of {arr} is {_sum/_len}\")"
   ]
  },
  {
   "cell_type": "code",
   "execution_count": 1,
   "metadata": {},
   "outputs": [
    {
     "name": "stdout",
     "output_type": "stream",
     "text": [
      "Mode of [2, 3, 2, 4, 5, 6, 2, 4] is 2\n"
     ]
    }
   ],
   "source": [
    "# mode of 2, 2, 4, 2, 8, 6, 7\n",
    "arr = [2, 3, 2, 4, 5, 6, 2, 4]\n",
    "counter = {}\n",
    "for num in arr: #to count the occurences of number\n",
    "    if num not in counter:\n",
    "        counter[num] = arr.count(num) \n",
    "\n",
    "max_value = max(counter.values()) # to get the most repeating count\n",
    "\n",
    "for key, val in counter.items(): # to get the element of most repeating\n",
    "    if val == max_value:\n",
    "        print(f\"Mode of {arr} is {key}\")\n",
    "        break\n",
    "\n"
   ]
  },
  {
   "cell_type": "code",
   "execution_count": 3,
   "metadata": {},
   "outputs": [
    {
     "name": "stdout",
     "output_type": "stream",
     "text": [
      "103\n"
     ]
    }
   ],
   "source": [
    "# find the range of 5, 4, -6, 12, 84, 97 \n",
    "arr = [5, 4, -6, 12, 84, 97]\n",
    "print(max(arr)-min(arr))"
   ]
  },
  {
   "cell_type": "code",
   "execution_count": 6,
   "metadata": {},
   "outputs": [
    {
     "name": "stdout",
     "output_type": "stream",
     "text": [
      "result of ab + ac + 4 is 52\n"
     ]
    }
   ],
   "source": [
    "# evaluate ab + ac + 4, where a = 4, b = 2, c = (min of a & b ) x 5\n",
    "a = int(input())\n",
    "b = int(input())\n",
    "c = min(a, b) * 5\n",
    "expr = a*b + a*c +4\n",
    "print(f\"result of ab + ac + 4 is {expr}\")"
   ]
  },
  {
   "cell_type": "code",
   "execution_count": 10,
   "metadata": {},
   "outputs": [
    {
     "name": "stdout",
     "output_type": "stream",
     "text": [
      "a**2 + 2*a*b + b**2\n"
     ]
    }
   ],
   "source": [
    "# expand (a+b)^2\n",
    "import sympy as sm\n",
    "a, b = sm.symbols(\"a b\")\n",
    "formula = (a + b)**2\n",
    "print(sm.expand(formula))"
   ]
  },
  {
   "cell_type": "code",
   "execution_count": 11,
   "metadata": {},
   "outputs": [
    {
     "name": "stdout",
     "output_type": "stream",
     "text": [
      "x**2 + 2*x\n"
     ]
    }
   ],
   "source": [
    "# expand x(x+2)\n",
    "x = sm.symbols(\"x\")\n",
    "expr = x * (x+2)\n",
    "print(sm.expand(expr))\n"
   ]
  },
  {
   "cell_type": "code",
   "execution_count": 12,
   "metadata": {},
   "outputs": [
    {
     "name": "stdout",
     "output_type": "stream",
     "text": [
      "2*a**3\n"
     ]
    }
   ],
   "source": [
    "# expand (a^3 + b^3) + (a^3 - b^3)\n",
    "a, b = sm.symbols(\"a b\")\n",
    "formula = (a**3 + b**3) + (a**3 - b**3)\n",
    "print(sm.expand(formula))"
   ]
  },
  {
   "cell_type": "code",
   "execution_count": null,
   "metadata": {},
   "outputs": [],
   "source": [
    "# expand (b-3)(b+1) + b + 20\n",
    " "
   ]
  },
  {
   "cell_type": "code",
   "execution_count": 13,
   "metadata": {},
   "outputs": [
    {
     "name": "stdout",
     "output_type": "stream",
     "text": [
      "[3/2]\n"
     ]
    }
   ],
   "source": [
    "# solve 2b-3 = 0, find b ?\n",
    "b = sm.symbols(\"b\")\n",
    "expr = 2*b - 3\n",
    "print(sm.solve(expr))"
   ]
  },
  {
   "cell_type": "code",
   "execution_count": 14,
   "metadata": {},
   "outputs": [
    {
     "name": "stdout",
     "output_type": "stream",
     "text": [
      "[25]\n"
     ]
    }
   ],
   "source": [
    "# solve b + 2 = 27, find b ?\n",
    "b = sm.symbols(\"b\")\n",
    "expr = b + 2 - 27\n",
    "print(sm.solve(expr))\n"
   ]
  },
  {
   "cell_type": "code",
   "execution_count": 15,
   "metadata": {},
   "outputs": [
    {
     "name": "stdout",
     "output_type": "stream",
     "text": [
      "[-5, 5]\n"
     ]
    }
   ],
   "source": [
    "# solve b^2 + 2 = 27 find b ?\n",
    "b = sm.symbols(\"b\")\n",
    "expr = b**2 + 2 - 27\n",
    "print(sm.solve(expr))"
   ]
  },
  {
   "cell_type": "code",
   "execution_count": 16,
   "metadata": {},
   "outputs": [
    {
     "name": "stdout",
     "output_type": "stream",
     "text": [
      "[20]\n"
     ]
    }
   ],
   "source": [
    "# solve x/4 + x/5 = 9, find x ?\n",
    "x = sm.symbols(\"x\")\n",
    "expr = x/4 + x/5 -9\n",
    "print(sm.solve(expr))"
   ]
  },
  {
   "cell_type": "code",
   "execution_count": 22,
   "metadata": {},
   "outputs": [
    {
     "name": "stdout",
     "output_type": "stream",
     "text": [
      "[16, 100, 324, 784, 1600]\n"
     ]
    }
   ],
   "source": [
    "# solve in (x^2)((x+3)^2) for each x val in [1, 2, 3, 4, 5]\n",
    "arr = [1, 2, 3, 4, 5]\n",
    "x = sm.symbols(\"x\")\n",
    "expr = (x**2) * ((x+3)**2)\n",
    "print([expr.subs(x, num) for num in arr])"
   ]
  },
  {
   "cell_type": "code",
   "execution_count": 7,
   "metadata": {},
   "outputs": [
    {
     "name": "stdout",
     "output_type": "stream",
     "text": [
      "35%\n"
     ]
    }
   ],
   "source": [
    "# 0.35 = __% ?\n",
    "\"\"\" format \"\"\"\n",
    "num = 0.35\n",
    "print(format(num, \".0%\"))"
   ]
  },
  {
   "cell_type": "code",
   "execution_count": 9,
   "metadata": {},
   "outputs": [
    {
     "name": "stdout",
     "output_type": "stream",
     "text": [
      "123%\n"
     ]
    }
   ],
   "source": [
    "# 1.23 = __% ?\n",
    "num = 1.23\n",
    "print(format(num, \".0%\"))"
   ]
  },
  {
   "cell_type": "code",
   "execution_count": 13,
   "metadata": {},
   "outputs": [
    {
     "name": "stdout",
     "output_type": "stream",
     "text": [
      "3.14\n"
     ]
    }
   ],
   "source": [
    "# 3.14129 format to value with two floating digits\n",
    "num = 3.14129\n",
    "print(format(num, \".2f\"))"
   ]
  },
  {
   "cell_type": "code",
   "execution_count": 20,
   "metadata": {},
   "outputs": [
    {
     "name": "stdout",
     "output_type": "stream",
     "text": [
      "30\n"
     ]
    }
   ],
   "source": [
    "# function\n",
    "def add(n1, n2):\n",
    "    return n1 + n2\n",
    "\n",
    "# lambda \n",
    "add = lambda n1, n2:n1+n2\n"
   ]
  },
  {
   "cell_type": "code",
   "execution_count": 25,
   "metadata": {},
   "outputs": [
    {
     "name": "stdout",
     "output_type": "stream",
     "text": [
      "[(2, 1), (1, 10), (3, 98)]\n"
     ]
    }
   ],
   "source": [
    "arr = [(2, 1),  (3, 98), (1, 10)]\n",
    "arr.sort(key=lambda x:x[1])\n",
    "print(arr)"
   ]
  },
  {
   "cell_type": "code",
   "execution_count": 34,
   "metadata": {},
   "outputs": [
    {
     "name": "stdout",
     "output_type": "stream",
     "text": [
      "('gautham', 21, 40000, 911)\n"
     ]
    }
   ],
   "source": [
    "data = [\n",
    "    (\"mahendra\", 23, 50000, 100),\n",
    "    (\"gautham\", 21, 40000, 911),\n",
    "    (\"hemanth\", 29, 39000, 104),\n",
    "    (\"upendra\", 30, 50001, 200)\n",
    "]\n",
    "\"\"\"\n",
    "sort\n",
    "min\n",
    "max\n",
    "\"\"\""
   ]
  }
 ],
 "metadata": {
  "kernelspec": {
   "display_name": "Python 3",
   "language": "python",
   "name": "python3"
  },
  "language_info": {
   "codemirror_mode": {
    "name": "ipython",
    "version": 3
   },
   "file_extension": ".py",
   "mimetype": "text/x-python",
   "name": "python",
   "nbconvert_exporter": "python",
   "pygments_lexer": "ipython3",
   "version": "3.12.3"
  }
 },
 "nbformat": 4,
 "nbformat_minor": 2
}
