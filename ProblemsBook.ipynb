{
 "cells": [
  {
   "cell_type": "code",
   "execution_count": null,
   "metadata": {},
   "outputs": [],
   "source": [
    "# check if number is composite or not\n"
   ]
  },
  {
   "cell_type": "code",
   "execution_count": null,
   "metadata": {},
   "outputs": [],
   "source": [
    "# GCD of 12 and 30\n",
    "def gcd(n1, n2):\n",
    "    factors1 = [i for i in range(2, n1+1) if n1 % i == 0] # to get factors of num1\n",
    "    factors2 = [i for i in range(2, n2+1) if n2 % i == 0] # to get factors of num2\n",
    "\n",
    "    commons = [i for i in factors1 if i in factors2] # to store all common factors\n",
    "    return max(commons)\n",
    "n1 = 12\n",
    "n2 = 30\n",
    "print(f\"GCD of {n1} and {n2} is {gcd(12, 30)}\")\n"
   ]
  },
  {
   "cell_type": "code",
   "execution_count": null,
   "metadata": {},
   "outputs": [],
   "source": [
    "# LCM of 12 and 72\n",
    "\"\"\"\n",
    "gcd(12, 72) / 12 * 72\n",
    "\"\"\"\n",
    "n1 = 12\n",
    "n2 = 72\n",
    "\n",
    "print(n1*n2//gcd(n1, n2))"
   ]
  },
  {
   "cell_type": "code",
   "execution_count": null,
   "metadata": {},
   "outputs": [],
   "source": [
    "# simplify form of 21/49\n",
    "def gcd(n1, n2):\n",
    "    factors1 = []\n",
    "    factors2 = []\n",
    "    for i in range(2, n1+1): # to get factors of num1\n",
    "        if n1 % i == 0:\n",
    "            factors1.append(i)\n",
    "    \n",
    "    for i in range(2, n2+1): # to get factors of num2\n",
    "        if n2 % i == 0:\n",
    "            factors2.append(i)\n",
    "    \n",
    "    maxi = 0  # to find the maximum common factor\n",
    "    for i in factors1:\n",
    "        if i in factors2:\n",
    "            maxi = i\n",
    "    return maxi\n",
    "numerator = 4\n",
    "denominator = 16\n",
    "_gcd = gcd(numerator, denominator) \n",
    "print(f\"{numerator//_gcd}/{denominator//_gcd}\")"
   ]
  },
  {
   "cell_type": "code",
   "execution_count": null,
   "metadata": {},
   "outputs": [],
   "source": [
    "# product of 0.6 and 0.8\n",
    "n1 = 0.6\n",
    "n2 = 0.8\n",
    "print(f\"product of {n1} and {n2} is {float(n1) * float(n2)}\")"
   ]
  },
  {
   "cell_type": "code",
   "execution_count": null,
   "metadata": {},
   "outputs": [],
   "source": [
    "# product of 3/4 and 9\n",
    "n1 = 3/4\n",
    "n2 = 9\n",
    "print(f\"product of {n1} and {n2} is {float(n1) * float(n2)}\")"
   ]
  },
  {
   "cell_type": "code",
   "execution_count": null,
   "metadata": {},
   "outputs": [],
   "source": [
    "# next term of 9, 15, 21, 27, 33, _ ?\n",
    "arr  = [9, 15, 21, 27, 33]\n",
    "diff = abs(arr[0] - arr[1])\n",
    "print(f\"next term of {arr} is {arr[-1] + diff}\")"
   ]
  },
  {
   "cell_type": "code",
   "execution_count": null,
   "metadata": {},
   "outputs": [],
   "source": [
    "# next term of 21, 16, 11, 6, _ ?\n",
    "arr  = [21, 16, 11, 6]\n",
    "diff = abs(arr[0] - arr[1])\n",
    "print(f\"next term of {arr} is {arr[-1] - diff}\")"
   ]
  },
  {
   "cell_type": "code",
   "execution_count": null,
   "metadata": {},
   "outputs": [],
   "source": [
    "# nth term of sequence 3, 7, 11, 15...?\n",
    "\"\"\"\n",
    "methods\n",
    "- (n - len(arr) * diff) + arr [-1]\n",
    "- (diff * n)-1\n",
    "\"\"\"\n",
    "\n",
    "n = 10\n",
    "arr = [3, 7, 11, 15]\n",
    "diff = abs(arr[0] - arr[1])\n",
    "\n",
    "# method1\n",
    "print(f\"nth term of {arr} is {((n-len(arr)) * diff) + arr[-1]}\")\n",
    "\n",
    "#method2\n",
    "print(f\"nth term of {arr} is {(diff * n)-1}\")"
   ]
  },
  {
   "cell_type": "code",
   "execution_count": null,
   "metadata": {},
   "outputs": [],
   "source": [
    "# find total, including missing terms of sequence 3, 7,... 23 \n",
    "print(sum([i for i in range(3, 24, 4)]))"
   ]
  },
  {
   "cell_type": "code",
   "execution_count": null,
   "metadata": {},
   "outputs": [],
   "source": [
    "# sum of all even numbers between -21 and 19\n",
    "num1 = -21\n",
    "num2 = 19\n",
    "print(sum([i for i in range(num1, num2+1) if i%2==0]))\n"
   ]
  },
  {
   "cell_type": "code",
   "execution_count": null,
   "metadata": {},
   "outputs": [],
   "source": [
    "# average of 12 and 24"
   ]
  },
  {
   "cell_type": "code",
   "execution_count": null,
   "metadata": {},
   "outputs": [],
   "source": [
    "# ((2^3)^(-4))^(-3) = ?\n",
    "print(((2**3)**(-4))**(-3))"
   ]
  },
  {
   "cell_type": "code",
   "execution_count": null,
   "metadata": {},
   "outputs": [],
   "source": [
    "# 17^3 + 19^2 = ?\n",
    "print((17**3) + (19**2))"
   ]
  },
  {
   "cell_type": "code",
   "execution_count": null,
   "metadata": {},
   "outputs": [],
   "source": [
    "# 1^3 + 2^2 + 3^3 + 4^2 + 5^3 + ...20^2 = ?\n",
    "res = 0\n",
    "for i in range(1, 21):\n",
    "    if i % 2 == 0:\n",
    "        res += i ** 2\n",
    "    else:\n",
    "        res = res + (i ** 3)\n",
    "print(res)\n"
   ]
  },
  {
   "cell_type": "code",
   "execution_count": null,
   "metadata": {},
   "outputs": [],
   "source": [
    "# product of all even nums between 21 to 41\n",
    "res = 1\n",
    "for i in range(21, 42):\n",
    "    res *= i\n",
    "print(res)"
   ]
  },
  {
   "cell_type": "code",
   "execution_count": null,
   "metadata": {},
   "outputs": [],
   "source": [
    "# convert every number into negative [9, -8, 1, -2, 7, -9]\n",
    "arr = [9, -8, 1, -2, 7, -9]\n",
    "res = []\n",
    "for i in arr:\n",
    "    res.append(-1*abs(i))\n",
    "print(res)"
   ]
  },
  {
   "cell_type": "code",
   "execution_count": null,
   "metadata": {},
   "outputs": [],
   "source": [
    "# sum of absolute values of [1, -3, 2, 4, -5]\n",
    "res = 0\n",
    "for i in [1, -3, 2, 4, -5]:\n",
    "    res += abs(i)\n",
    "print(res)"
   ]
  },
  {
   "cell_type": "code",
   "execution_count": null,
   "metadata": {},
   "outputs": [],
   "source": [
    "# get all palindrome numbers from 1 to 200\n",
    "\"\"\"\n",
    "loop from 1 to 201\n",
    "convert to str\n",
    "compare str(num) == reversed str(num)\n",
    "\"\"\"\n",
    "for i in range(1, 201):\n",
    "    converted = str(i)\n",
    "    if converted == converted[::-1]:\n",
    "        print(i)\n"
   ]
  },
  {
   "cell_type": "code",
   "execution_count": null,
   "metadata": {},
   "outputs": [],
   "source": [
    "# find the primes in 2, 3, 4, 12, 13 (Must use Functions)\n",
    "def isPrime(n):\n",
    "    for i in range(2, (n//2)+1):\n",
    "        if n % i == 0:\n",
    "            return False\n",
    "    return True\n",
    "\n",
    "for num in [2, 3, 4, 12, 13]:\n",
    "    if isPrime(num) == True:\n",
    "        print(num)   "
   ]
  },
  {
   "cell_type": "code",
   "execution_count": null,
   "metadata": {},
   "outputs": [],
   "source": [
    "print(\"This is Suresh's pc\")\n",
    "print('This is Suresh\\'s pc')"
   ]
  },
  {
   "cell_type": "markdown",
   "metadata": {},
   "source": [
    "re-use composite function for below two probs"
   ]
  },
  {
   "cell_type": "code",
   "execution_count": null,
   "metadata": {},
   "outputs": [],
   "source": [
    "# find the composites in 9, 31, 32, 14, 17, 43, 58, 4, 6 (Must use Functions)\n",
    "def isComposite(n):\n",
    "    for i in range(2, (n//2)+1):\n",
    "        if n % i == 0:\n",
    "            return True\n",
    "    return False\n",
    "\n",
    "for num in [9, 31, 32, 14, 17, 43, 58, 4, 6]:\n",
    "    if isComposite(num) == True:\n",
    "        print(num)"
   ]
  },
  {
   "cell_type": "code",
   "execution_count": null,
   "metadata": {},
   "outputs": [],
   "source": [
    "# filter composite numbers from 10 to 20 in below arr (Must use Function & filter)\n",
    "def isComposite(n):\n",
    "    for i in range(2, (n//2)+1):\n",
    "        if n % i == 0:\n",
    "            return True\n",
    "    return False\n",
    "arr = [9, 31, 32, 14, 17, 43, 58, 4, 6]\n",
    "print(list(filter(isComposite, arr)))"
   ]
  },
  {
   "cell_type": "code",
   "execution_count": null,
   "metadata": {},
   "outputs": [],
   "source": [
    "# filter positives and count (dont use lambda, Must use def and filter)\n",
    "arr = [1, 3, -2, -4, 5, 0]\n",
    "def isPositive(n):\n",
    "    return n > 0\n",
    "positives = list(filter(isPositive, arr))\n",
    "print(f\"Positives are {positives}\\nNumber of positives: {len(positives)}\")"
   ]
  },
  {
   "cell_type": "code",
   "execution_count": null,
   "metadata": {},
   "outputs": [],
   "source": [
    "# filter negatives and count\n",
    "arr = [1, 3, -2, -4, 5, 0]\n",
    "def isNegative(n):\n",
    "    return n < 0\n",
    "negatives = list(filter(isNegative, arr))\n",
    "print(f\"Negatives are {negatives}\\nNumber of negatives: {len(negatives)}\")"
   ]
  },
  {
   "cell_type": "code",
   "execution_count": null,
   "metadata": {},
   "outputs": [],
   "source": [
    "# validate if the input is str or int\n",
    "n = 10\n",
    "if type(n) == int:\n",
    "    print(\"Integer\")\n",
    "elif type(n) == str:\n",
    "    print(\"String\")\n",
    "else:\n",
    "    print(\"not created\")"
   ]
  },
  {
   "cell_type": "code",
   "execution_count": null,
   "metadata": {},
   "outputs": [],
   "source": [
    "# filter string data types\n",
    "arr = [1, \"steeve\", 23.42, \"tony\", \"bucky\"]\n",
    "print(list(filter(lambda x:type(x)==str, arr)))"
   ]
  },
  {
   "cell_type": "code",
   "execution_count": null,
   "metadata": {},
   "outputs": [],
   "source": [
    "# filter palindromes from 1 to 100\n",
    "arr = [i for i in range(1, 101)]\n",
    "\n",
    "# method 1\n",
    "def isPalindrome(n):\n",
    "    return str(n) == str(n)[::-1]\n",
    "print(list(filter(isPalindrome, arr)))\n",
    "\n",
    "# method 2\n",
    "print(list(filter(lambda x: str(x)==str(x)[::-1], arr)))"
   ]
  },
  {
   "cell_type": "code",
   "execution_count": null,
   "metadata": {},
   "outputs": [],
   "source": [
    "# filter all numbers from 1 to 100 that are divisible by 2  & 5\n",
    "#  don't use append & if\n",
    "print(list(filter(lambda x: x%2==0 and x%5 ==0, [i for i in range(1, 101)])))\n"
   ]
  },
  {
   "cell_type": "markdown",
   "metadata": {},
   "source": [
    "re-use the factorial function for below three probs"
   ]
  },
  {
   "cell_type": "code",
   "execution_count": null,
   "metadata": {},
   "outputs": [],
   "source": [
    "# 10! = ? (i.e., factorial)\n",
    "def rise(n):\n",
    "    res = 1\n",
    "    for i in range(2, n+1):\n",
    "        # res *= i\n",
    "        res = res * i\n",
    "    return res\n",
    "print(rise(5))"
   ]
  },
  {
   "cell_type": "code",
   "execution_count": null,
   "metadata": {},
   "outputs": [],
   "source": [
    "# 1! + 2! + 3! + ... 10! = ?\n",
    "res = 0\n",
    "for i in range(1, 11):\n",
    "    res += rise(i)\n",
    "print(res % (10**9) + 7)"
   ]
  },
  {
   "cell_type": "code",
   "execution_count": null,
   "metadata": {},
   "outputs": [],
   "source": [
    "# 2! + 4! + 6! + ... 20! = ?\n",
    "res = 0\n",
    "for i in range(2, 21, 2):\n",
    "    res += rise(i)\n",
    "print(res % (10**9) + 7)\n"
   ]
  },
  {
   "cell_type": "code",
   "execution_count": null,
   "metadata": {},
   "outputs": [],
   "source": [
    "# separate all the evens from list\n",
    "\"\"\" \n",
    "but list should be user input\n",
    "\n",
    "\"\"\"\n",
    "arr = list(map(int, (input().split())))\n",
    "res = []\n",
    "for i in arr:\n",
    "    if i % 2 == 0:\n",
    "        res.append(i)\n",
    "print(res)"
   ]
  },
  {
   "cell_type": "code",
   "execution_count": null,
   "metadata": {},
   "outputs": [],
   "source": []
  },
  {
   "cell_type": "code",
   "execution_count": null,
   "metadata": {},
   "outputs": [],
   "source": [
    "details = {}\n",
    "\n",
    "\n",
    "print(details)"
   ]
  },
  {
   "cell_type": "code",
   "execution_count": null,
   "metadata": {},
   "outputs": [],
   "source": []
  },
  {
   "cell_type": "code",
   "execution_count": null,
   "metadata": {},
   "outputs": [],
   "source": [
    "#list\n",
    "names = []\n",
    "names.append(\"rise\")\n",
    "names.append(\"python\")\n",
    "# names.pop()\n",
    "names.append(\"crt\")\n",
    "names.insert(1, \"and\")\n",
    "names[1] = \"&\"\n",
    "print(names, names.index(\"&\"))\n",
    "arr = [1, 2, 2, 4, 5]\n"
   ]
  },
  {
   "cell_type": "code",
   "execution_count": null,
   "metadata": {},
   "outputs": [],
   "source": [
    "#tuple\n",
    "names = tuple()\n",
    "print(names, type(names))"
   ]
  },
  {
   "cell_type": "code",
   "execution_count": null,
   "metadata": {},
   "outputs": [],
   "source": [
    "arr = [1, 1, 1, 1, 2, 3, 44, 5]\n",
    "arr.pop(-2)\n",
    "arr.pop()\n",
    "print(arr)"
   ]
  },
  {
   "cell_type": "code",
   "execution_count": null,
   "metadata": {},
   "outputs": [],
   "source": [
    "#set\n",
    "names = set()\n",
    "names.add(\"rise\")\n",
    "names.add(\"gandhi\")\n",
    "# names.remove(\"rise\")\n",
    "print(\"pace\" in names)\n"
   ]
  },
  {
   "cell_type": "code",
   "execution_count": null,
   "metadata": {},
   "outputs": [],
   "source": [
    "#dictionary\n",
    "data = {}\n",
    "data[\"name\"] = \"suresh\"\n",
    "data[10] = \"Ramesh\"\n",
    "data[frozenset({1,2})] = \"Suresh\"\n",
    "print(data)"
   ]
  },
  {
   "cell_type": "code",
   "execution_count": null,
   "metadata": {},
   "outputs": [],
   "source": [
    "name = (10,)\n",
    "print(type(name))"
   ]
  },
  {
   "cell_type": "code",
   "execution_count": null,
   "metadata": {},
   "outputs": [],
   "source": [
    "#loops\n",
    "n = int(input())\n",
    "evens = []\n",
    "odds = []\n",
    "for i in range(1, n+1):\n",
    "    if i % 2 == 0:\n",
    "        evens.append(i)\n",
    "    else:\n",
    "        odds.append(i)\n",
    "print(evens, odds)"
   ]
  },
  {
   "cell_type": "code",
   "execution_count": null,
   "metadata": {},
   "outputs": [],
   "source": [
    "# print the numbers that are divisible by both a and b from 20 to 100\n",
    "\n",
    "a = int(input())\n",
    "b = int(input())\n",
    "\n",
    "for i in range(20, 101):\n",
    "    if i % a == 0 and i % b == 0:\n",
    "        print(i)"
   ]
  },
  {
   "cell_type": "code",
   "execution_count": null,
   "metadata": {},
   "outputs": [],
   "source": [
    "# check if integer number is palindrome or not\n",
    "s = 1201\n",
    "s = str(s)\n",
    "print(s[::-1] == s)\n"
   ]
  },
  {
   "cell_type": "code",
   "execution_count": null,
   "metadata": {},
   "outputs": [],
   "source": [
    "# check if integer is prime or not\n",
    "\n",
    "primes = []\n",
    "composites = []\n",
    "for num in range(1, 21):\n",
    "    for i in range(2, int(num**(1/2))+1):\n",
    "        if num % i == 0:\n",
    "            composites.append(num)\n",
    "            break\n",
    "    else:\n",
    "        primes.append(num)\n",
    "\n",
    "prime_sum = sum(primes)\n",
    "composite_sum = sum(composites)\n",
    "\n",
    "print(f\"primes are {primes}\")\n",
    "print(f\"composites are {composites}\")\n",
    "print(\"------------------------------------------------------\")\n",
    "print(f\"prime sum : {sum(primes)}\")\n",
    "print(f\"composites sum: {sum(composites)}\")\n",
    "print(\"------------------------------------------------------\")\n",
    "\n",
    "if prime_sum % 2 == 0:\n",
    "    print(f\"prime sum {prime_sum} is even\")\n",
    "else:\n",
    "    print(f\"prime sum {prime_sum} is odd\")\n",
    "\n",
    "if composite_sum % 2 == 0:\n",
    "    print(f\"composite sum {composite_sum} is even\")\n",
    "else:\n",
    "    print(f\"composite sum {composite_sum} is odd\")\n"
   ]
  },
  {
   "cell_type": "code",
   "execution_count": null,
   "metadata": {},
   "outputs": [],
   "source": [
    "# product of all odd nums b/w 5 and 14\n",
    "res = 1\n",
    "for i in range(5, 15, 2):\n",
    "    res *= i\n",
    "print(res)"
   ]
  },
  {
   "cell_type": "code",
   "execution_count": null,
   "metadata": {},
   "outputs": [],
   "source": [
    "# if nick drives 190 miles per 2 hours, how far can he drive in 7 hours\n",
    "miles_travelled = float(input(\"miles_travelled: \"))\n",
    "hrs_taken = float(input(\"hrs_taken: \"))\n",
    "units = miles_travelled / hrs_taken\n",
    "required_hrs = float(input(\"hrs_required: \"))\n",
    "res = units * required_hrs\n",
    "print(res)"
   ]
  },
  {
   "cell_type": "code",
   "execution_count": null,
   "metadata": {},
   "outputs": [],
   "source": [
    "# if 4.5 kgs of apples cost 500 bucks, what's the units price ?\n",
    "weight = float(input(\"Actual weight: \"))\n",
    "cost = float(input(\"Actual cost: \"))\n",
    "print(f\"units price is {cost/weight}\")\n"
   ]
  },
  {
   "cell_type": "code",
   "execution_count": null,
   "metadata": {},
   "outputs": [],
   "source": [
    "# median of 2, 1, 4, 10, 8, 6, 7\n",
    "arr = list(map(int, input(\"Enter nums separated by space: \").split()))\n",
    "# arr.sort()\n",
    "arr = sorted(arr)\n",
    "mid = len(arr) // 2\n",
    "if len(arr) % 2 == 0:\n",
    "    print(f\"median: {(arr[mid]+arr[mid-1])//2}\")\n",
    "else:\n",
    "    print(f\"median: {arr[mid]}\")\n",
    "\n"
   ]
  },
  {
   "cell_type": "code",
   "execution_count": null,
   "metadata": {},
   "outputs": [],
   "source": [
    "# mean of 12, -2, 4, -10, 6\n",
    "_sum = 0\n",
    "_len = 0\n",
    "arr = list(map(int, input(\"Enter nums separated by space: \").split()))\n",
    "for num in arr:\n",
    "    _sum += num\n",
    "    _len += 1\n",
    "print(f\"Mean of {arr} is {_sum/_len}\")"
   ]
  },
  {
   "cell_type": "code",
   "execution_count": null,
   "metadata": {},
   "outputs": [],
   "source": [
    "# mode of 2, 2, 4, 2, 8, 6, 7\n",
    "arr = [2, 3, 2, 4, 5, 6, 2, 4]\n",
    "counter = {}\n",
    "for num in arr: #to count the occurences of number\n",
    "    if num not in counter:\n",
    "        counter[num] = arr.count(num) \n",
    "\n",
    "max_value = max(counter.values()) # to get the most repeating count\n",
    "\n",
    "for key, val in counter.items(): # to get the element of most repeating\n",
    "    if val == max_value:\n",
    "        print(f\"Mode of {arr} is {key}\")\n",
    "        break\n",
    "\n"
   ]
  },
  {
   "cell_type": "code",
   "execution_count": null,
   "metadata": {},
   "outputs": [],
   "source": [
    "# find the range of 5, 4, -6, 12, 84, 97 \n",
    "arr = [5, 4, -6, 12, 84, 97]\n",
    "print(max(arr)-min(arr))"
   ]
  },
  {
   "cell_type": "code",
   "execution_count": null,
   "metadata": {},
   "outputs": [],
   "source": [
    "# evaluate ab + ac + 4, where a = 4, b = 2, c = (min of a & b ) x 5\n",
    "a = int(input())\n",
    "b = int(input())\n",
    "c = min(a, b) * 5\n",
    "expr = a*b + a*c +4\n",
    "print(f\"result of ab + ac + 4 is {expr}\")"
   ]
  },
  {
   "cell_type": "code",
   "execution_count": null,
   "metadata": {},
   "outputs": [],
   "source": [
    "# expand (a+b)^2\n",
    "import sympy as sm\n",
    "a, b = sm.symbols(\"a b\")\n",
    "formula = (a + b)**2\n",
    "print(sm.expand(formula))"
   ]
  },
  {
   "cell_type": "code",
   "execution_count": null,
   "metadata": {},
   "outputs": [],
   "source": [
    "# expand x(x+2)\n",
    "x = sm.symbols(\"x\")\n",
    "expr = x * (x+2)\n",
    "print(sm.expand(expr))\n"
   ]
  },
  {
   "cell_type": "code",
   "execution_count": null,
   "metadata": {},
   "outputs": [],
   "source": [
    "# expand (a^3 + b^3) + (a^3 - b^3)\n",
    "a, b = sm.symbols(\"a b\")\n",
    "formula = (a**3 + b**3) + (a**3 - b**3)\n",
    "print(sm.expand(formula))"
   ]
  },
  {
   "cell_type": "code",
   "execution_count": null,
   "metadata": {},
   "outputs": [],
   "source": [
    "# expand (b-3)(b+1) + b + 20\n",
    " "
   ]
  },
  {
   "cell_type": "code",
   "execution_count": null,
   "metadata": {},
   "outputs": [],
   "source": [
    "# solve 2b-3 = 0, find b ?\n",
    "b = sm.symbols(\"b\")\n",
    "expr = 2*b - 3\n",
    "print(sm.solve(expr))"
   ]
  },
  {
   "cell_type": "code",
   "execution_count": null,
   "metadata": {},
   "outputs": [],
   "source": [
    "# solve b + 2 = 27, find b ?\n",
    "b = sm.symbols(\"b\")\n",
    "expr = b + 2 - 27\n",
    "print(sm.solve(expr))\n"
   ]
  },
  {
   "cell_type": "code",
   "execution_count": null,
   "metadata": {},
   "outputs": [],
   "source": [
    "# solve b^2 + 2 = 27 find b ?\n",
    "b = sm.symbols(\"b\")\n",
    "expr = b**2 + 2 - 27\n",
    "print(sm.solve(expr))"
   ]
  },
  {
   "cell_type": "code",
   "execution_count": null,
   "metadata": {},
   "outputs": [],
   "source": [
    "# solve x/4 + x/5 = 9, find x ?\n",
    "x = sm.symbols(\"x\")\n",
    "expr = x/4 + x/5 -9\n",
    "print(sm.solve(expr))"
   ]
  },
  {
   "cell_type": "code",
   "execution_count": null,
   "metadata": {},
   "outputs": [],
   "source": [
    "# solve in (x^2)((x+3)^2) for each x val in [1, 2, 3, 4, 5]\n",
    "arr = [1, 2, 3, 4, 5]\n",
    "x = sm.symbols(\"x\")\n",
    "expr = (x**2) * ((x+3)**2)\n",
    "print([expr.subs(x, num) for num in arr])"
   ]
  },
  {
   "cell_type": "code",
   "execution_count": null,
   "metadata": {},
   "outputs": [],
   "source": [
    "# 0.35 = __% ?\n",
    "\"\"\" format \"\"\"\n",
    "num = 0.35\n",
    "print(format(num, \".0%\"))"
   ]
  },
  {
   "cell_type": "code",
   "execution_count": null,
   "metadata": {},
   "outputs": [],
   "source": [
    "# 1.23 = __% ?\n",
    "num = 1.23\n",
    "print(format(num, \".0%\"))"
   ]
  },
  {
   "cell_type": "code",
   "execution_count": null,
   "metadata": {},
   "outputs": [],
   "source": [
    "# 3.14129 format to value with two floating digits\n",
    "num = 3.14129\n",
    "print(format(num, \".2f\"))"
   ]
  },
  {
   "cell_type": "code",
   "execution_count": null,
   "metadata": {},
   "outputs": [],
   "source": [
    "# function\n",
    "def add(n1, n2):\n",
    "    return n1 + n2\n",
    "\n",
    "# lambda \n",
    "add = lambda n1, n2:n1+n2\n"
   ]
  },
  {
   "cell_type": "code",
   "execution_count": null,
   "metadata": {},
   "outputs": [],
   "source": [
    "arr = [(2, 1),  (3, 98), (1, 10)]\n",
    "arr.sort(key=lambda x:x[1])\n",
    "print(arr)"
   ]
  },
  {
   "cell_type": "code",
   "execution_count": null,
   "metadata": {},
   "outputs": [],
   "source": [
    "data = [\n",
    "    #    name   age  salary id\n",
    "    (\"mahendra\", 23, 50000, 100),\n",
    "    (\"gautham\", 21, 40000, 101),\n",
    "    (\"hemanth\", 29, 39000, 102),\n",
    "    (\"upendra\", 30, 50001, 103)\n",
    "]\n",
    "\"\"\"\n",
    "sort and print data in alphabetical order\n",
    "sort and print data in age order ( younger one's first ) \n",
    "print the older man name\n",
    "print the younger man name\n",
    "print the richest employee name\n",
    "\"\"\"\n",
    "#1\n",
    "data.sort()\n",
    "for bio in data:\n",
    "    print(bio)\n",
    "\n",
    "print()\n",
    "\n",
    "#2\n",
    "data.sort(key=lambda x:x[1])\n",
    "for bio in data:\n",
    "    print(bio)\n",
    "\n",
    "print()\n",
    "\n",
    "#3\n",
    "\"\"\"approach1\"\"\"\n",
    "data.sort(key=lambda x:x[1])\n",
    "print(data[-1][0])\n",
    "\n",
    "\"\"\"approach2\"\"\"\n",
    "print(max(data, key=lambda x:x[1])[0])\n",
    "\n",
    "print()\n",
    "#3\n",
    "\"\"\"approach1\"\"\"\n",
    "data.sort(key=lambda x:x[1])\n",
    "print(data[0][0])\n",
    "\n",
    "\"\"\"approach2\"\"\"\n",
    "print(min(data, key=lambda x:x[1])[0])\n",
    "\n",
    "print()\n",
    "#4\n",
    "\"\"\"approach1\"\"\"\n",
    "data.sort(key=lambda x:x[2])\n",
    "print(data[-1][0])\n",
    "\n",
    "\"\"\"approach2\"\"\"\n",
    "print(max(data, key=lambda x:x[2])[0])"
   ]
  },
  {
   "cell_type": "code",
   "execution_count": null,
   "metadata": {},
   "outputs": [],
   "source": [
    "# remove all the spaces at front and back\n",
    "# hint :- s*i*e +ing\n",
    "sentence = \"      long long ago i was student         \"\n",
    "start = 0\n",
    "for i in range(len(sentence)): # to find the first non-space charater index\n",
    "    if sentence[i] != \" \":\n",
    "        start = i\n",
    "        break\n",
    "for i in range(len(sentence)-1, -1, -1): # to find the last non-space charater index\n",
    "    if sentence[i] != \" \":\n",
    "        end = i\n",
    "        break\n",
    "sentence = sentence[start:end+1] #storing the substring \n",
    "print(sentence)"
   ]
  },
  {
   "cell_type": "code",
   "execution_count": null,
   "metadata": {},
   "outputs": [],
   "source": [
    "# remove all the spaces in the sentence\n",
    "sentence = \"  long long ago i was student  \"\n",
    "temp = \"\"\n",
    "for i in range(len(sentence)):\n",
    "    if sentence[i] != \" \": #concatenate all the non-space characters to temp\n",
    "        temp += sentence[i]\n",
    "sentence = temp # update sentence with temp\n",
    "print(sentence)\n"
   ]
  },
  {
   "cell_type": "code",
   "execution_count": null,
   "metadata": {},
   "outputs": [],
   "source": [
    "# join the list elements into single string\n",
    "\"\"\"\n",
    "ex :- [\"this\", \"is\", \"pen\"] to thisispen\n",
    "      [1, 2, 3, 4, 5] to 12345\n",
    "\n",
    "      [\"this\", \"is\", \"pen\"] to this-is-pen\n",
    "      [1, 2, 3, 4, 5] to 1.2.3.4.5\n",
    "\"\"\"\n",
    "# thisispen\n",
    "arr = [\"this\", \"is\", \"pen\"]\n",
    "temp = \"\"\n",
    "for word in arr:\n",
    "    temp += word\n",
    "print(temp)\n",
    "\n",
    "# 12345\n",
    "arr = [1, 2, 3, 4, 5]\n",
    "temp = \"\"\n",
    "for word in arr:\n",
    "    temp += str(word)\n",
    "print(temp)\n",
    "\n",
    "# this-is-pen\n",
    "arr = [\"this\", \"is\", \"pen\"]\n",
    "temp = \"\"\n",
    "for word in arr:\n",
    "    temp += word + \"-\"\n",
    "print(temp[0:len(temp)-1])\n",
    "\n",
    "# 1.2.3.4.5\n",
    "arr = [1, 2, 3, 4, 5]\n",
    "temp = \"\"\n",
    "for word in arr:\n",
    "    temp += str(word) + \".\"\n",
    "print(temp[0:len(temp)-1])\n",
    "\n"
   ]
  },
  {
   "cell_type": "code",
   "execution_count": null,
   "metadata": {},
   "outputs": [],
   "source": [
    "# print the lowest and highest index of words below in the sentence else print -1\n",
    "sentence = '''Once upon a time in India, there was a king called Tippu.\n",
    "             India was a great country.'''\n",
    "\n",
    "word1 = \"was\"\n",
    "word2 = \"ashwa\"\n",
    "word3 = \"called\"\n",
    "\n",
    "\n",
    "print(sentence.index(word2))\n",
    "print(sentence.rindex(word2))\n",
    "\n",
    "print(sentence.find(word2))\n",
    "print(sentence.rfind(word2))\n",
    "\n"
   ]
  },
  {
   "cell_type": "code",
   "execution_count": null,
   "metadata": {},
   "outputs": [],
   "source": [
    "# Print rest of the sentence in a sentence starting from the given word at lowest & highest.\n",
    "sentence = '''Once upon a time in India, there was a king called Tippu. India was a great country.'''\n",
    "\n",
    "word = \"India\"\n",
    "lowest = sentence.find(word)\n",
    "highest = sentence.rfind(word)\n",
    "\n",
    "#lowest o/p\n",
    "print(sentence[lowest:])\n",
    "\n",
    "#highest o/p\n",
    "print(sentence[highest:])"
   ]
  },
  {
   "cell_type": "code",
   "execution_count": null,
   "metadata": {},
   "outputs": [],
   "source": [
    "\"\"\"\n",
    "A company decided to give bonus of 5% to employee \n",
    " if his/her year of service is more than/equal to 5 years. \n",
    "Write a program that prompt the user for their salary and year of service, \n",
    "print the bonus amount and total salary including bonus.\n",
    "\"\"\"\n",
    "salary = int(input(\"Enter salary: \"))\n",
    "yos = int(input(\"Enter Years Of Service: \"))\n",
    "if yos >= 5:\n",
    "    bonus_rate = 5\n",
    "    bonus_amount = (bonus_rate / 100 ) * salary\n",
    "    print(f\"Bonus Amount: {bonus_amount}\\nTotal Salary: {salary+bonus_amount}\")\n",
    "else:\n",
    "    print(\"You have to work atleast 5 years to get bonus\")\n"
   ]
  },
  {
   "cell_type": "code",
   "execution_count": null,
   "metadata": {},
   "outputs": [],
   "source": [
    "\"\"\"\n",
    "Which of the following four punctuation's are present in the given string.\n",
    "\". ! , ;\"\n",
    "\n",
    "Input: sentence = \"oh ! yes, you are pretty\"\n",
    "Output: given sentence has !\n",
    "        given sentence has ,\n",
    "\"\"\"\n",
    "sentence = \"oh ! yes, you are pretty\"\n",
    "if \".\" in sentence:\n",
    "    print(\"given sentence has .\")\n",
    "if \",\" in sentence:\n",
    "    print(\"given sentence has ,\")\n",
    "if \"!\" in sentence:\n",
    "    print(\"given sentence has !\")\n",
    "if \";\" in sentence:\n",
    "    print(\"given sentence has ;\")"
   ]
  },
  {
   "cell_type": "code",
   "execution_count": null,
   "metadata": {},
   "outputs": [],
   "source": [
    "\"\"\"\n",
    "write a program to promt for age and print if he is a kid / child/ boy/ man/ old/ immortal.\n",
    "Constraint:- there will be no negative ages in input\n",
    "\n",
    "kid = 1 to 5 years\n",
    "child = 6 to 10 years\n",
    "boy = 11 to 17 years\n",
    "man = 18 to 59 years\n",
    "old = 60 to 100 years\n",
    "immortal = > 100 years\n",
    "\"\"\"\n",
    "age = int(input(\"Enter age: \"))\n",
    "if 1 <= age <= 5:\n",
    "    print(\"He is a kid\")\n",
    "\n",
    "elif 6 <= age <= 10:\n",
    "    print(\"He is a child\")\n",
    "\n",
    "elif age >= 11 and age <= 17:\n",
    "    print(\"He is a boy\")\n",
    "\n",
    "elif age >= 18 and age <= 59:\n",
    "    print(\"He is a man\")\n",
    "\n",
    "elif age >= 60 and age <= 100:\n",
    "    print(\"He is a old\")\n",
    "\n",
    "elif age > 100:\n",
    "    print(\"He is immortal\")\n",
    "\n",
    "else:\n",
    "    print(\"Unborn\")"
   ]
  },
  {
   "cell_type": "code",
   "execution_count": 17,
   "metadata": {},
   "outputs": [
    {
     "name": "stdout",
     "output_type": "stream",
     "text": [
      "['Tony', 'Rogers', 'Damon', 'Thanos']\n",
      "Rogers\n"
     ]
    }
   ],
   "source": [
    "\"\"\" \n",
    "List of votes, contestants and ages are given. \n",
    "Write a program to find the contestant who wins the elections. \n",
    "If there is a tie, older contestant wins.\n",
    "\n",
    "\"\"\"\n",
    "votes = [\n",
    "       'Tony', 'Bucky', 'Rogers', 'Damon', 'Stefan',\n",
    "       'Bucky', 'Rogers', 'Rogers', 'Tony', 'Damon',\n",
    "      'Elena', 'Stefan', 'Tony', 'Thanos', 'Elena',\n",
    "       'Thanos', 'Matt', 'Rose', 'Thanos', 'Damon'\n",
    "]\n",
    "age = {\n",
    "    'Tony': 61,\n",
    "    'Bucky': 54,\n",
    "    'Stefan': 79,\n",
    "    'Rogers': 80,\n",
    "    'Vicky': 34,\n",
    "    'Thanos': 50,\n",
    "    'Matt': 55,\n",
    "    'Rose': 42,\n",
    "    'Elena': 70,\n",
    "    'Damon': 78\n",
    "}\n",
    "# to store the count of votes for a contestant\n",
    "voteCounter = {}\n",
    "for vote in votes:\n",
    "    if vote not in voteCounter:\n",
    "        voteCounter[vote] = votes.count(vote)\n",
    "\n",
    "max_votes = max(voteCounter.values()) # to get highest vote count\n",
    "\n",
    "lead = []\n",
    "for name, cnt in voteCounter.items(): # to store leading/tied contestants\n",
    "    if max_votes == cnt:\n",
    "        lead.append(name)\n",
    "\n",
    "winner_name = \"\"\n",
    "winner_age = 0\n",
    "\n",
    "for name in lead: # updating older contestant among tied contestants\n",
    "    if age.get(name) > winner_age:\n",
    "        winner_name = name\n",
    "        winner_age = age.get(name)\n",
    "\n",
    "print(lead)\n",
    "print(winner_name)\n",
    "\n"
   ]
  },
  {
   "cell_type": "code",
   "execution_count": 18,
   "metadata": {},
   "outputs": [
    {
     "name": "stdout",
     "output_type": "stream",
     "text": [
      "Invitaion marraige  sent to john.deer@gmail.com\n",
      "Invitaion marraige  sent to alex.barner@yahoo.com\n",
      "Invitaion marraige  sent to matt.damon@gmail.com\n",
      "Invitaion marraige  sent to george.cloony@yahoo.com\n"
     ]
    }
   ],
   "source": [
    "\"\"\" \n",
    "create send_invitation(mail, msg) function and send inviations\n",
    "DO NOT SEND INVITATION TO MAIL's HAVING HOTMAIL \n",
    "\n",
    "\"\"\"\n",
    "msg = input(\"Invitation Msg: \")\n",
    "emails = [\n",
    "    'john.deer@gmail.com',\n",
    "    'alex.barner@yahoo.com',\n",
    "    'brad.cooper@hotmail.com',\n",
    "    'cindy.barner@hotmail.com',\n",
    "    'matt.damon@gmail.com',\n",
    "    'george.cloony@yahoo.com',\n",
    "    'mc.barner@hotmail.com'\n",
    "]\n",
    "def send_invitation(mail:str, msg:str):\n",
    "    print(f\"Invitaion {msg} sent to {mail}\")\n",
    "\n",
    "for mail in emails:\n",
    "    ind = mail.find(\"@\")\n",
    "    if mail[ind+1:] != \"hotmail.com\":\n",
    "        send_invitation(mail, msg)"
   ]
  },
  {
   "cell_type": "code",
   "execution_count": 1,
   "metadata": {},
   "outputs": [
    {
     "name": "stdout",
     "output_type": "stream",
     "text": [
      "5 is missing in [1, 2, 3, 4]\n"
     ]
    }
   ],
   "source": [
    "\"\"\"\n",
    "find the missing number in arr, it contains elements from 1 to n and unique\n",
    "Input Format: \n",
    "    - First line contains an integer n, denoting the size of the array.\n",
    "    - second line contains n-1 space-separated integers representing the array's elements.\n",
    "Output Format:\n",
    "    print the missing integer\n",
    "\n",
    "Input: n = 5\n",
    "       arr = 1 2 3 5 \n",
    "Output: 4\n",
    "Explanation : All the numbers from 1 to 5 are present except 4.\n",
    "\n",
    "\"\"\"\n",
    "n = int(input())\n",
    "arr = list(map(int, input().split()))\n",
    "\n",
    "for i in range(1, n+1):\n",
    "    if i not in arr:\n",
    "        print(f\"{i} is missing in {arr}\")\n",
    "        break\n"
   ]
  },
  {
   "cell_type": "code",
   "execution_count": null,
   "metadata": {},
   "outputs": [],
   "source": [
    "\"\"\"\n",
    "reverse the words in the sentence for n test cases, Words are separated by dots.\n",
    "Input Format: \n",
    "    - First line contains an integer n, denoting the number of input strings.\n",
    "    - Next n lines contains the string separated by dots.\n",
    "Output Format:\n",
    "    - print the reversed string for each input string.\n",
    "\n",
    "Input: n = 2\n",
    "       s = i.like.this.python.problems\n",
    "       s = if.you.can't.make.it.good.atleast.make.it.look.good\n",
    "Output: \n",
    "       problems.python.this.like.i\n",
    "       good.look.it.make.atleast.good.it.make.can't.you.if\n",
    "\"\"\"\n",
    "n = int(input(\"no. of sentences: \"))\n",
    "inputs = []\n",
    "for _ in range(n):\n",
    "    s = input(\"Sentence: \")\n",
    "    inputs.append(s)\n"
   ]
  },
  {
   "cell_type": "code",
   "execution_count": null,
   "metadata": {},
   "outputs": [],
   "source": [
    "\"\"\"\n",
    "Given a square matrix, calculate the absolute difference between the sums of its diagonals.\n",
    "For example, the square matrix  is shown below:\n",
    "\n",
    "Input Format:\n",
    "    - The first line contains a single integer n,\n",
    "       the number of rows and columns in the square matrix arr.\n",
    "    - next n lines contains n-space separated integers  \n",
    "\n",
    "Output Format:\n",
    "    - Return the absolute diff b/w the sums of matrix's two diagonals as a single integer.\n",
    "\n",
    "Sample Input\n",
    "3\n",
    "1 2 3\n",
    "4 5 6\n",
    "9 8 9 \n",
    "\n",
    "Sample Output\n",
    "2\n",
    "\n",
    "Explanation:\n",
    "The left-to-right diagonal (1+5+9= 15). The right to left diagonal (3+5+9 = 17). \n",
    "Their absolute difference is |15-17|=2.\n",
    "\n",
    "\"\"\"\n",
    "#input\n",
    "n = int(input(\"n:\"))\n",
    "matrix = [list(map(int, input().split())) for _ in range(n)]\n",
    "\n",
    "# logic\n",
    "left_digonal = 0\n",
    "right_digonal = 0\n",
    "\n",
    "for row in range(n):\n",
    "    for col in range(n):\n",
    "        if row == col:\n",
    "            left_digonal += matrix[row][col]\n",
    "\n",
    "        if row + col == n - 1:\n",
    "            right_digonal += matrix[row][col]\n",
    "        \n",
    "#output\n",
    "print(abs(left_digonal - right_digonal))"
   ]
  },
  {
   "cell_type": "code",
   "execution_count": null,
   "metadata": {},
   "outputs": [],
   "source": [
    "# print all the columns\n",
    "matrix = [\n",
    "    [1, 2, 3],\n",
    "    [4, 5, 6],\n",
    "    [7, 8, 9]\n",
    "]\n",
    "# to print row-wise elements\n",
    "for row in range(n):\n",
    "    for col in range(n):\n",
    "        print(matrix[row][col])\n",
    "\n",
    "# to print column-wise elements\n",
    "for row in range(n):\n",
    "    for col in range(n):\n",
    "        print(matrix[col][row])"
   ]
  }
 ],
 "metadata": {
  "kernelspec": {
   "display_name": "Python 3",
   "language": "python",
   "name": "python3"
  },
  "language_info": {
   "codemirror_mode": {
    "name": "ipython",
    "version": 3
   },
   "file_extension": ".py",
   "mimetype": "text/x-python",
   "name": "python",
   "nbconvert_exporter": "python",
   "pygments_lexer": "ipython3",
   "version": "3.12.3"
  }
 },
 "nbformat": 4,
 "nbformat_minor": 2
}
