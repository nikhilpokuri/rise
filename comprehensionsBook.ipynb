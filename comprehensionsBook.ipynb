{
 "cells": [
  {
   "cell_type": "code",
   "execution_count": 4,
   "metadata": {},
   "outputs": [
    {
     "name": "stdout",
     "output_type": "stream",
     "text": [
      "1/4\n"
     ]
    }
   ],
   "source": [
    "# simplify form of 21/49\n",
    "def gcd(n1, n2):\n",
    "    factors1 = [i for i in range(2, n1+1) if n1 % i == 0] # to get factors of num1\n",
    "    factors2 = [i for i in range(2, n2+1) if n2 % i == 0] # to get factors of num2\n",
    "\n",
    "    commons = [i for i in factors1 if i in factors2] # to store all common factors\n",
    "    return max(commons)\n",
    "\n",
    "numerator = 4\n",
    "denominator = 16\n",
    "_gcd = gcd(numerator, denominator) \n",
    "print(f\"{numerator//_gcd}/{denominator//_gcd}\")"
   ]
  },
  {
   "cell_type": "code",
   "execution_count": 3,
   "metadata": {},
   "outputs": [
    {
     "name": "stdout",
     "output_type": "stream",
     "text": [
      "[1, 2, 3, 4, 5, 6, 7, 8, 9, 10, 11, 12, 13, 14, 15, 16, 17, 18, 19, 20]\n",
      "[2, 4, 6, 8, 10, 12, 14, 16, 18, 20]\n"
     ]
    }
   ],
   "source": [
    "# printing 1 to 20 nums\n",
    "print([i for i in range(1, 21)])\n",
    "\n",
    "#printing evens from 1 to 20\n",
    "print([i for i in range(1, 21) if i%2==0])"
   ]
  },
  {
   "cell_type": "code",
   "execution_count": 6,
   "metadata": {},
   "outputs": [
    {
     "name": "stdout",
     "output_type": "stream",
     "text": [
      "78\n"
     ]
    }
   ],
   "source": [
    "# find total, including missing terms of sequence 3, 7,... 23 \n",
    "print(sum([i for i in range(3, 24, 4)]))"
   ]
  },
  {
   "cell_type": "code",
   "execution_count": 7,
   "metadata": {},
   "outputs": [
    {
     "name": "stdout",
     "output_type": "stream",
     "text": [
      "13750050968240640337841356800000\n"
     ]
    }
   ],
   "source": [
    "# product of all even nums between 21 to 41\n",
    "def mahendra(arr):\n",
    "    res = 1\n",
    "    for i in arr:\n",
    "        res *= i\n",
    "    return res\n",
    "\n",
    "print(mahendra([i for i in range(21, 42)]))"
   ]
  },
  {
   "cell_type": "code",
   "execution_count": 9,
   "metadata": {},
   "outputs": [
    {
     "name": "stdout",
     "output_type": "stream",
     "text": [
      "[-9, -8, -1, -2, -7, -9]\n"
     ]
    }
   ],
   "source": [
    "# convert every number into negative [9, -8, 1, -2, 7, -9]\n",
    "\n",
    "print([-1*(abs(i)) for i in [9, -8, 1, -2, 7, -9]])"
   ]
  },
  {
   "cell_type": "code",
   "execution_count": 10,
   "metadata": {},
   "outputs": [
    {
     "name": "stdout",
     "output_type": "stream",
     "text": [
      "15\n"
     ]
    }
   ],
   "source": [
    "# sum of absolute values of [1, -3, 2, 4, -5]\n",
    "print(sum([abs(i) for i in [1, -3, 2, 4, -5]]))"
   ]
  },
  {
   "cell_type": "code",
   "execution_count": 11,
   "metadata": {},
   "outputs": [
    {
     "name": "stdout",
     "output_type": "stream",
     "text": [
      "[1, 2, 3, 4, 5, 6, 7, 8, 9, 11, 22, 33, 44, 55, 66, 77, 88, 99, 101, 111, 121, 131, 141, 151, 161, 171, 181, 191]\n"
     ]
    }
   ],
   "source": [
    "#  get all palindrome numbers from 1 to 200\n",
    "print([i for i in range(1, 201) if str(i) == str(i)[::-1]])"
   ]
  },
  {
   "cell_type": "code",
   "execution_count": 12,
   "metadata": {},
   "outputs": [
    {
     "name": "stdout",
     "output_type": "stream",
     "text": [
      "[2, 3, 13]\n"
     ]
    }
   ],
   "source": [
    "# find the primes in 2, 3, 4, 12, 13 (Must use Functions)\n",
    "def pace(n):\n",
    "    for i in range(2, (n//2)+1):\n",
    "        if n % i == 0:\n",
    "            return False\n",
    "    return True\n",
    "print([i for i in [2, 3, 4, 12, 13] if pace(i)==True])"
   ]
  },
  {
   "cell_type": "code",
   "execution_count": 19,
   "metadata": {},
   "outputs": [
    {
     "name": "stdout",
     "output_type": "stream",
     "text": [
      "value of 5 is False\n",
      "value of 6 is False\n"
     ]
    }
   ],
   "source": [
    "arr = {1:True, 2:True, 3:True, 5:False, 6:False}\n",
    "for i in arr:\n",
    "    if arr.get(i) == False:\n",
    "        print(f\"value of {i} is {arr.get(i)}\")"
   ]
  },
  {
   "cell_type": "code",
   "execution_count": 1,
   "metadata": {},
   "outputs": [
    {
     "name": "stdout",
     "output_type": "stream",
     "text": [
      "{1: True, 2: True, 3: True, 4: True, 5: True, 6: True, 7: True, 8: True, 9: True, 10: True}\n"
     ]
    }
   ],
   "source": [
    "\"\"\"\n",
    "- create empty dictionary\n",
    "- put keys from 1 to 10\n",
    "- values as True\n",
    "\n",
    "OUTPUT:\n",
    "{1:True, 2:True, ... 10:True}\n",
    "\"\"\"\n",
    "arr = {}\n",
    "for i in range(1, 11):\n",
    "    arr[i] = True\n",
    "print(arr)"
   ]
  },
  {
   "cell_type": "code",
   "execution_count": 2,
   "metadata": {},
   "outputs": [
    {
     "name": "stdout",
     "output_type": "stream",
     "text": [
      "{1: True, 2: True, 3: True, 4: True, 5: True, 6: True, 7: True, 8: True, 9: True, 10: True}\n"
     ]
    }
   ],
   "source": [
    "\"\"\"\n",
    "- create empty dictionary\n",
    "- put keys from 1 to 10\n",
    "- values as True\n",
    "\n",
    "OUTPUT:\n",
    "{1:True, 2:True, ... 10:True}\n",
    "with COMPREHENSION\n",
    "\"\"\"\n",
    "print({i:True for i in range(1, 11)})"
   ]
  }
 ],
 "metadata": {
  "kernelspec": {
   "display_name": "Python 3",
   "language": "python",
   "name": "python3"
  },
  "language_info": {
   "codemirror_mode": {
    "name": "ipython",
    "version": 3
   },
   "file_extension": ".py",
   "mimetype": "text/x-python",
   "name": "python",
   "nbconvert_exporter": "python",
   "pygments_lexer": "ipython3",
   "version": "3.12.3"
  }
 },
 "nbformat": 4,
 "nbformat_minor": 2
}
